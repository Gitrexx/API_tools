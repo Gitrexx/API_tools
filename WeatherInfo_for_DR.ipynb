{
  "nbformat": 4,
  "nbformat_minor": 0,
  "metadata": {
    "colab": {
      "name": "WeatherInfo_for_DR.ipynb",
      "provenance": [],
      "collapsed_sections": []
    },
    "kernelspec": {
      "name": "python3",
      "display_name": "Python 3"
    },
    "language_info": {
      "name": "python"
    }
  },
  "cells": [
    {
      "cell_type": "markdown",
      "source": [
        "### Data Exploration"
      ],
      "metadata": {
        "id": "Rb28ekupxpqc"
      }
    },
    {
      "cell_type": "code",
      "execution_count": null,
      "metadata": {
        "id": "xFDQnGusP0Aq"
      },
      "outputs": [],
      "source": [
        "url = 'https://api.data.gov.sg/v1/environment/air-temperature?date=2022-01-16'\n",
        "response = requests.get(url)"
      ]
    },
    {
      "cell_type": "code",
      "source": [
        "rawdata = json.loads(response.content)"
      ],
      "metadata": {
        "id": "21KWe2sxQrMI"
      },
      "execution_count": null,
      "outputs": []
    },
    {
      "cell_type": "code",
      "source": [
        "metadata = rawdata['metadata']\n",
        "items = rawdata['items']\n",
        "api_info = rawdata['api_info']"
      ],
      "metadata": {
        "id": "ftzGOQ6iQsOB"
      },
      "execution_count": null,
      "outputs": []
    },
    {
      "cell_type": "code",
      "source": [
        "metadatadf = pd.DataFrame(metadata)\n",
        "itemsdf = pd.DataFrame(items)\n",
        "api_info # {'status':'healthy'}"
      ],
      "metadata": {
        "colab": {
          "base_uri": "https://localhost:8080/"
        },
        "id": "eea7LYYfRAUu",
        "outputId": "739dd0b7-51b3-4e19-e12e-c45f7eded2c5"
      },
      "execution_count": null,
      "outputs": [
        {
          "output_type": "execute_result",
          "data": {
            "text/plain": [
              "{'status': 'healthy'}"
            ]
          },
          "metadata": {},
          "execution_count": 99
        }
      ]
    },
    {
      "cell_type": "code",
      "source": [
        "itemsdf[itemsdf.index%30==0]"
      ],
      "metadata": {
        "id": "03NHDH6WU_qi"
      },
      "execution_count": null,
      "outputs": []
    },
    {
      "cell_type": "markdown",
      "source": [
        "### getWeatherInfo"
      ],
      "metadata": {
        "id": "-Nw4hCQzx7jg"
      }
    },
    {
      "cell_type": "code",
      "source": [
        "import requests\n",
        "import time\n",
        "import json\n",
        "import pandas as pd\n",
        "from datetime import datetime"
      ],
      "metadata": {
        "id": "JYxxt-npQvax"
      },
      "execution_count": null,
      "outputs": []
    },
    {
      "cell_type": "code",
      "source": [
        "class getWeatherInfo_byTime:\n",
        "  def __init__(self,start_date,end_date):\n",
        "    self.intro()\n",
        "    self.datetimeArray = []\n",
        "    self.datetimeStringArray = []\n",
        "    self.temperatureInfo = pd.DataFrame(columns=['datetime','period','AVG_temperature'])\n",
        "    self.temperature_url = 'https://api.data.gov.sg/v1/environment/air-temperature?date_time='\n",
        "    self.start_date = start_date\n",
        "    self.end_date = end_date\n",
        "\n",
        "  def intro(self):\n",
        "    print('this class retrieves weather information specifically for DR programme')\n",
        "    print('you can use getTemperature method and getRainfall method to explore more')\n",
        "    print('make sure the start date and end date argument are in YYYY/MM/DD format')\n",
        "\n",
        "  def getTemperature(self):\n",
        "    start_stamp = int(datetime.timestamp(datetime.strptime(self.start_date,\"%Y/%m/%d\")))\n",
        "    end_stamp = int(datetime.timestamp(datetime.strptime(self.end_date,\"%Y/%m/%d\")))\n",
        "\n",
        "    for i in range(start_stamp,end_stamp,1800):\n",
        "      datetime_sample = datetime.fromtimestamp(i)\n",
        "      datetimeString_sample = datetime_sample.strftime(\"%Y-%m-%dT%H:%M:%S\").replace(':','%3A')\n",
        "      self.datetimeArray.append(datetime_sample)\n",
        "      self.datetimeStringArray.append(datetimeString_sample)\n",
        "    \n",
        "    print('datetimeArray ready! There are {} entries in the array'.format(len(self.datetimeArray)))\n",
        "\n",
        "    for i,item in enumerate(datetimeStringArray):\n",
        "      url = self.temperature_url + item\n",
        "      response = requests.get(url)\n",
        "      mean_temperature = pd.DataFrame(json.loads(response.content)['items'][0]['readings']).value.mean()\n",
        "      period = i%48 + 1\n",
        "      self.temperatureInfo = self.temperatureInfo.append({'datetime':datetimeArray[i],'period':period,'AVG_temperature':mean_temperature},ignore_index=True)\n",
        "      if period == 48:\n",
        "        print('{} days data ready'.format((i+1)//48))\n"
      ],
      "metadata": {
        "id": "hj6tZia5xaKi"
      },
      "execution_count": null,
      "outputs": []
    },
    {
      "cell_type": "code",
      "source": [
        "class getWeatherInfo_byDate:\n",
        "  def __init__(self,start_date,end_date):\n",
        "    self.intro()\n",
        "    self.dateArray = []\n",
        "    self.dateStringArray = []\n",
        "    self.temperatureInfo = pd.DataFrame()\n",
        "    self.temperature_url = 'https://api.data.gov.sg/v1/environment/air-temperature?date='\n",
        "    self.start_date = start_date\n",
        "    self.end_date = end_date\n",
        "\n",
        "  def intro(self):\n",
        "    print('this class retrieves weather information specifically for DR programme')\n",
        "    print('you can use getTemperature method and getRainfall method to explore more')\n",
        "    print('make sure the start date and end date argument are in YYYY-MM-DD format')\n",
        "\n",
        "  def getTemperature(self):\n",
        "    start_stamp = int(datetime.timestamp(datetime.strptime(self.start_date,\"%Y-%m-%d\")))\n",
        "    end_stamp = int(datetime.timestamp(datetime.strptime(self.end_date,\"%Y-%m-%d\")))\n",
        "\n",
        "    for i in range(start_stamp,end_stamp,86400):\n",
        "      datetime_sample = datetime.fromtimestamp(i)\n",
        "      datetimeString_sample = datetime_sample.strftime(\"%Y-%m-%d\")\n",
        "      self.dateArray.append(datetime_sample)\n",
        "      self.dateStringArray.append(datetimeString_sample)\n",
        "    \n",
        "    print('datetimeArray ready! There are {} days in the array'.format(len(self.dateArray)))\n",
        "\n",
        "    for i,date in enumerate(self.dateStringArray):\n",
        "      url = self.temperature_url + date\n",
        "      response = requests.get(url)\n",
        "      items_df = pd.DataFrame(json.loads(response.content)['items'])\n",
        "      temp = items_df[items_df.index%30==0]\n",
        "      periods = [i for i in range(1,49)]\n",
        "      mean_temperatures = [pd.DataFrame(s).value.mean() for s in temp.readings]\n",
        "      try:\n",
        "        day_df = pd.DataFrame({'timestamp':temp.timestamp,'period':periods,'AVG_temperature':mean_temperatures})\n",
        "        self.temperatureInfo = self.temperatureInfo.append(day_df, ignore_index=True)\n",
        "        print('{} days ready!'.format(i+1))\n",
        "      except Exception as e:\n",
        "        print('the {}th days not ready! '.format(i+1),e)\n",
        "        print('It is not ok for ' + date)\n",
        "      "
      ],
      "metadata": {
        "id": "tPK2S80sRCi1"
      },
      "execution_count": null,
      "outputs": []
    },
    {
      "cell_type": "code",
      "source": [
        "DR_temperature = getWeatherInfo_byDate('2022-01-15','2022-03-01')"
      ],
      "metadata": {
        "colab": {
          "base_uri": "https://localhost:8080/"
        },
        "id": "68HPJrdSTbAD",
        "outputId": "80d09001-d863-4738-9a8e-8a0aa0a84cf6"
      },
      "execution_count": null,
      "outputs": [
        {
          "output_type": "stream",
          "name": "stdout",
          "text": [
            "this class retrieves weather information specifically for DR programme\n",
            "you can use getTemperature method and getRainfall method to explore more\n",
            "make sure the start date and end date argument are in YYYY-MM-DD format\n"
          ]
        }
      ]
    },
    {
      "cell_type": "code",
      "source": [
        "DR_temperature.getTemperature()"
      ],
      "metadata": {
        "colab": {
          "base_uri": "https://localhost:8080/"
        },
        "id": "kEPaeZ9gTXBZ",
        "outputId": "323a3f3f-3a54-48d6-cbb5-a2b5935bb10c"
      },
      "execution_count": null,
      "outputs": [
        {
          "output_type": "stream",
          "name": "stdout",
          "text": [
            "datetimeArray ready! There are 45 days in the array\n",
            "1 days ready!\n",
            "the 2th days not ready!  All arrays must be of the same length\n",
            "It is not ok for 2022-01-16\n",
            "3 days ready!\n",
            "4 days ready!\n",
            "5 days ready!\n",
            "6 days ready!\n",
            "7 days ready!\n",
            "8 days ready!\n",
            "9 days ready!\n",
            "10 days ready!\n",
            "11 days ready!\n",
            "12 days ready!\n",
            "13 days ready!\n",
            "14 days ready!\n",
            "15 days ready!\n",
            "16 days ready!\n",
            "17 days ready!\n",
            "18 days ready!\n",
            "19 days ready!\n",
            "20 days ready!\n",
            "21 days ready!\n",
            "22 days ready!\n",
            "23 days ready!\n",
            "24 days ready!\n",
            "25 days ready!\n",
            "26 days ready!\n",
            "27 days ready!\n",
            "28 days ready!\n",
            "29 days ready!\n",
            "30 days ready!\n",
            "31 days ready!\n",
            "32 days ready!\n",
            "33 days ready!\n",
            "34 days ready!\n",
            "35 days ready!\n",
            "36 days ready!\n",
            "37 days ready!\n",
            "38 days ready!\n",
            "39 days ready!\n",
            "the 40th days not ready!  All arrays must be of the same length\n",
            "It is not ok for 2022-02-23\n",
            "the 41th days not ready!  All arrays must be of the same length\n",
            "It is not ok for 2022-02-24\n",
            "42 days ready!\n",
            "43 days ready!\n",
            "44 days ready!\n",
            "45 days ready!\n"
          ]
        }
      ]
    },
    {
      "cell_type": "code",
      "source": [
        "DR_temperature.temperatureInfo"
      ],
      "metadata": {
        "id": "AkVBmXrKT2eI",
        "outputId": "d8d42c0e-3a04-4d4d-c190-1738d3235afb",
        "colab": {
          "base_uri": "https://localhost:8080/",
          "height": 424
        }
      },
      "execution_count": null,
      "outputs": [
        {
          "output_type": "execute_result",
          "data": {
            "text/html": [
              "\n",
              "  <div id=\"df-a147835c-1ec7-4055-8c0e-d70a61db19a4\">\n",
              "    <div class=\"colab-df-container\">\n",
              "      <div>\n",
              "<style scoped>\n",
              "    .dataframe tbody tr th:only-of-type {\n",
              "        vertical-align: middle;\n",
              "    }\n",
              "\n",
              "    .dataframe tbody tr th {\n",
              "        vertical-align: top;\n",
              "    }\n",
              "\n",
              "    .dataframe thead th {\n",
              "        text-align: right;\n",
              "    }\n",
              "</style>\n",
              "<table border=\"1\" class=\"dataframe\">\n",
              "  <thead>\n",
              "    <tr style=\"text-align: right;\">\n",
              "      <th></th>\n",
              "      <th>timestamp</th>\n",
              "      <th>period</th>\n",
              "      <th>AVG_temperature</th>\n",
              "    </tr>\n",
              "  </thead>\n",
              "  <tbody>\n",
              "    <tr>\n",
              "      <th>0</th>\n",
              "      <td>2022-01-15T00:01:00+08:00</td>\n",
              "      <td>1</td>\n",
              "      <td>26.100000</td>\n",
              "    </tr>\n",
              "    <tr>\n",
              "      <th>1</th>\n",
              "      <td>2022-01-15T00:31:00+08:00</td>\n",
              "      <td>2</td>\n",
              "      <td>26.064286</td>\n",
              "    </tr>\n",
              "    <tr>\n",
              "      <th>2</th>\n",
              "      <td>2022-01-15T01:01:00+08:00</td>\n",
              "      <td>3</td>\n",
              "      <td>25.964286</td>\n",
              "    </tr>\n",
              "    <tr>\n",
              "      <th>3</th>\n",
              "      <td>2022-01-15T01:31:00+08:00</td>\n",
              "      <td>4</td>\n",
              "      <td>25.900000</td>\n",
              "    </tr>\n",
              "    <tr>\n",
              "      <th>4</th>\n",
              "      <td>2022-01-15T02:01:00+08:00</td>\n",
              "      <td>5</td>\n",
              "      <td>25.807143</td>\n",
              "    </tr>\n",
              "    <tr>\n",
              "      <th>...</th>\n",
              "      <td>...</td>\n",
              "      <td>...</td>\n",
              "      <td>...</td>\n",
              "    </tr>\n",
              "    <tr>\n",
              "      <th>2011</th>\n",
              "      <td>2022-02-28T21:32:00+08:00</td>\n",
              "      <td>44</td>\n",
              "      <td>27.007692</td>\n",
              "    </tr>\n",
              "    <tr>\n",
              "      <th>2012</th>\n",
              "      <td>2022-02-28T22:02:00+08:00</td>\n",
              "      <td>45</td>\n",
              "      <td>26.938462</td>\n",
              "    </tr>\n",
              "    <tr>\n",
              "      <th>2013</th>\n",
              "      <td>2022-02-28T22:32:00+08:00</td>\n",
              "      <td>46</td>\n",
              "      <td>26.838462</td>\n",
              "    </tr>\n",
              "    <tr>\n",
              "      <th>2014</th>\n",
              "      <td>2022-02-28T23:02:00+08:00</td>\n",
              "      <td>47</td>\n",
              "      <td>26.761538</td>\n",
              "    </tr>\n",
              "    <tr>\n",
              "      <th>2015</th>\n",
              "      <td>2022-02-28T23:32:00+08:00</td>\n",
              "      <td>48</td>\n",
              "      <td>26.669231</td>\n",
              "    </tr>\n",
              "  </tbody>\n",
              "</table>\n",
              "<p>2016 rows × 3 columns</p>\n",
              "</div>\n",
              "      <button class=\"colab-df-convert\" onclick=\"convertToInteractive('df-a147835c-1ec7-4055-8c0e-d70a61db19a4')\"\n",
              "              title=\"Convert this dataframe to an interactive table.\"\n",
              "              style=\"display:none;\">\n",
              "        \n",
              "  <svg xmlns=\"http://www.w3.org/2000/svg\" height=\"24px\"viewBox=\"0 0 24 24\"\n",
              "       width=\"24px\">\n",
              "    <path d=\"M0 0h24v24H0V0z\" fill=\"none\"/>\n",
              "    <path d=\"M18.56 5.44l.94 2.06.94-2.06 2.06-.94-2.06-.94-.94-2.06-.94 2.06-2.06.94zm-11 1L8.5 8.5l.94-2.06 2.06-.94-2.06-.94L8.5 2.5l-.94 2.06-2.06.94zm10 10l.94 2.06.94-2.06 2.06-.94-2.06-.94-.94-2.06-.94 2.06-2.06.94z\"/><path d=\"M17.41 7.96l-1.37-1.37c-.4-.4-.92-.59-1.43-.59-.52 0-1.04.2-1.43.59L10.3 9.45l-7.72 7.72c-.78.78-.78 2.05 0 2.83L4 21.41c.39.39.9.59 1.41.59.51 0 1.02-.2 1.41-.59l7.78-7.78 2.81-2.81c.8-.78.8-2.07 0-2.86zM5.41 20L4 18.59l7.72-7.72 1.47 1.35L5.41 20z\"/>\n",
              "  </svg>\n",
              "      </button>\n",
              "      \n",
              "  <style>\n",
              "    .colab-df-container {\n",
              "      display:flex;\n",
              "      flex-wrap:wrap;\n",
              "      gap: 12px;\n",
              "    }\n",
              "\n",
              "    .colab-df-convert {\n",
              "      background-color: #E8F0FE;\n",
              "      border: none;\n",
              "      border-radius: 50%;\n",
              "      cursor: pointer;\n",
              "      display: none;\n",
              "      fill: #1967D2;\n",
              "      height: 32px;\n",
              "      padding: 0 0 0 0;\n",
              "      width: 32px;\n",
              "    }\n",
              "\n",
              "    .colab-df-convert:hover {\n",
              "      background-color: #E2EBFA;\n",
              "      box-shadow: 0px 1px 2px rgba(60, 64, 67, 0.3), 0px 1px 3px 1px rgba(60, 64, 67, 0.15);\n",
              "      fill: #174EA6;\n",
              "    }\n",
              "\n",
              "    [theme=dark] .colab-df-convert {\n",
              "      background-color: #3B4455;\n",
              "      fill: #D2E3FC;\n",
              "    }\n",
              "\n",
              "    [theme=dark] .colab-df-convert:hover {\n",
              "      background-color: #434B5C;\n",
              "      box-shadow: 0px 1px 3px 1px rgba(0, 0, 0, 0.15);\n",
              "      filter: drop-shadow(0px 1px 2px rgba(0, 0, 0, 0.3));\n",
              "      fill: #FFFFFF;\n",
              "    }\n",
              "  </style>\n",
              "\n",
              "      <script>\n",
              "        const buttonEl =\n",
              "          document.querySelector('#df-a147835c-1ec7-4055-8c0e-d70a61db19a4 button.colab-df-convert');\n",
              "        buttonEl.style.display =\n",
              "          google.colab.kernel.accessAllowed ? 'block' : 'none';\n",
              "\n",
              "        async function convertToInteractive(key) {\n",
              "          const element = document.querySelector('#df-a147835c-1ec7-4055-8c0e-d70a61db19a4');\n",
              "          const dataTable =\n",
              "            await google.colab.kernel.invokeFunction('convertToInteractive',\n",
              "                                                     [key], {});\n",
              "          if (!dataTable) return;\n",
              "\n",
              "          const docLinkHtml = 'Like what you see? Visit the ' +\n",
              "            '<a target=\"_blank\" href=https://colab.research.google.com/notebooks/data_table.ipynb>data table notebook</a>'\n",
              "            + ' to learn more about interactive tables.';\n",
              "          element.innerHTML = '';\n",
              "          dataTable['output_type'] = 'display_data';\n",
              "          await google.colab.output.renderOutput(dataTable, element);\n",
              "          const docLink = document.createElement('div');\n",
              "          docLink.innerHTML = docLinkHtml;\n",
              "          element.appendChild(docLink);\n",
              "        }\n",
              "      </script>\n",
              "    </div>\n",
              "  </div>\n",
              "  "
            ],
            "text/plain": [
              "                      timestamp  period  AVG_temperature\n",
              "0     2022-01-15T00:01:00+08:00       1        26.100000\n",
              "1     2022-01-15T00:31:00+08:00       2        26.064286\n",
              "2     2022-01-15T01:01:00+08:00       3        25.964286\n",
              "3     2022-01-15T01:31:00+08:00       4        25.900000\n",
              "4     2022-01-15T02:01:00+08:00       5        25.807143\n",
              "...                         ...     ...              ...\n",
              "2011  2022-02-28T21:32:00+08:00      44        27.007692\n",
              "2012  2022-02-28T22:02:00+08:00      45        26.938462\n",
              "2013  2022-02-28T22:32:00+08:00      46        26.838462\n",
              "2014  2022-02-28T23:02:00+08:00      47        26.761538\n",
              "2015  2022-02-28T23:32:00+08:00      48        26.669231\n",
              "\n",
              "[2016 rows x 3 columns]"
            ]
          },
          "metadata": {},
          "execution_count": 113
        }
      ]
    }
  ]
}