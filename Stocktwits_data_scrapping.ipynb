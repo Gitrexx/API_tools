{
 "cells": [
  {
   "cell_type": "markdown",
   "metadata": {
    "id": "9GuUNrGHRlDG"
   },
   "source": [
    "#### Scrapper"
   ]
  },
  {
   "cell_type": "code",
   "execution_count": null,
   "metadata": {
    "id": "83_B3RohGehg"
   },
   "outputs": [],
   "source": [
    "import json\n",
    "import requests\n",
    "import pandas as pd\n",
    "import numpy as np\n",
    "import time\n",
    "import os"
   ]
  },
  {
   "cell_type": "code",
   "execution_count": null,
   "metadata": {
    "id": "hePgITdLs1vE"
   },
   "outputs": [],
   "source": [
    "class StockTwitAPIScrapper:\n",
    "  def __init__(self):\n",
    "    self.intro()\n",
    "    self.url = \"https://api.stocktwits.com/api/2/streams/symbol/{}.json?\"\n",
    "    self.maxId = None\n",
    "    self.symbol = None\n",
    "    self.lastRun = None\n",
    "    self.lastStatus = None\n",
    "    self.df = pd.DataFrame()\n",
    "    self.getInput()\n",
    "\n",
    "  def intro(self):\n",
    "    message = 'for this scapper it scrap and output dataframe with multiple fields, and currently only support input for 1 company symbol'\n",
    "    instruction = 'pls input some constrains for this scrapper'\n",
    "    print(message)\n",
    "    print(instruction)\n",
    "\n",
    "  def getInput(self):\n",
    "    self.maxId = input('by default scrapper start from current utc time backwards, press enter, else pls enter the max id for the data you want to scrap:')\n",
    "    while len(self.maxId) != 9 or not self.maxId.isdigit():\n",
    "      if self.maxId == '':\n",
    "        break\n",
    "      self.maxId = input('your max id is not valid, pls re-enter:')\n",
    "    self.symbol = input('pls enter the company symbol that you want to scrap:')\n",
    "    while requests.get(self.url.format(self.symbol)).status_code != 200:\n",
    "      self.symbol = input('seems there is no such company, pls re-enter the company symbol that you want to scrap:')\n",
    "\n",
    "  def scrap(self, continue_last_run = False, silent = False):\n",
    "\n",
    "    if self.lastRun is not None:\n",
    "      continue_last_run = True\n",
    "\n",
    "    if self.symbol == None:\n",
    "      print('you did not set the symbol, pls re-initialize a instance')\n",
    "    \n",
    "    #query_times = input('1 query can get 30 entries, how many queries do you want to execute:')\n",
    "    query_times = '200'\n",
    "    while not query_times.isdigit():\n",
    "      query_times = input('pls enter valid number:')\n",
    "    query_times = int(query_times)\n",
    "    while abs(query_times) > 1000:\n",
    "      query_times = 1000\n",
    "      #print('API has a limit 1000 queries per hour, set the query_times as 1000')\n",
    "\n",
    "\n",
    "    temp_url = self.url.format(self.symbol)\n",
    "\n",
    "    if not continue_last_run:\n",
    "      if self.maxId != None and self.maxId != '':\n",
    "        temp_url += 'max={}'.format(int(self.maxId)-1)\n",
    "      self.df = pd.DataFrame()\n",
    "    else:\n",
    "      temp_url += 'max={}'.format(int(self.lastRun)-1)\n",
    "\n",
    "    try:\n",
    "      for i in range(query_times):\n",
    "        response = requests.get(temp_url)\n",
    "        messages = json.loads(response.content)['messages']\n",
    "        lastid = messages[-1]['id']\n",
    "        self.df = self.df.append(messages,ignore_index=True)\n",
    "        temp_url = self.url.format(self.symbol) + 'max={}'.format(int(lastid)-1)\n",
    "        if not silent:\n",
    "          print('run query {} time'.format(i+1))\n",
    "        time.sleep(3)\n",
    "      print('finished, {} queries in total this time'.format(query_times))\n",
    "    except Exception as e:\n",
    "      self.lastRun = lastid\n",
    "      self.lastStatus = response.status_code\n",
    "      print(e)\n",
    "      print('something wrong or user stopped')\n",
    "    \n",
    "    self.lastRun = lastid\n",
    "    self.lastStatus = response.status_code\n",
    "\n",
    "\n"
   ]
  },
  {
   "cell_type": "code",
   "execution_count": null,
   "metadata": {
    "colab": {
     "base_uri": "https://localhost:8080/"
    },
    "id": "z3Cy1jGhxUfD",
    "outputId": "e054ab27-d0ca-4315-e6b2-51c31e732e38"
   },
   "outputs": [],
   "source": [
    "app = StockTwitAPIScrapper()"
   ]
  },
  {
   "cell_type": "code",
   "execution_count": null,
   "metadata": {},
   "outputs": [],
   "source": [
    "if not os.path.exists(app.symbol):\n",
    "    os.makedirs(app.symbol)\n",
    "flag = 1\n",
    "while flag==1:\n",
    "    try:\n",
    "        app.scrap(silent=True)\n",
    "        app.df.to_csv(app.symbol+'/'+app.symbol+'_'+str(app.df.id[0])+'_'+str(app.lastRun)+'.csv',encoding='utf-8-sig')\n",
    "        app.df = pd.DataFrame()\n",
    "    except Exception as e:\n",
    "        print(e)\n",
    "        flag=0\n",
    "        break"
   ]
  },
  {
   "cell_type": "code",
   "execution_count": null,
   "metadata": {
    "id": "bqLJCg2t9129"
   },
   "outputs": [],
   "source": [
    "# check all the entry follow descending time sequence\n",
    "for i in range(len(app.df.id)-1):\n",
    "  if app.df.id[i] - app.df.id[i+1] < 0:\n",
    "    print(i)\n",
    "    print(app.df.id[i] - app.df.id[i+1])\n",
    "\n",
    "#check last run id and last run status code\n",
    "print(app.lastRun)\n",
    "print(app.lastStatus)"
   ]
  },
  {
   "cell_type": "code",
   "execution_count": null,
   "metadata": {},
   "outputs": [],
   "source": []
  }
 ],
 "metadata": {
  "colab": {
   "collapsed_sections": [],
   "name": "Stocktwits_data_scrapping.ipynb",
   "provenance": []
  },
  "kernelspec": {
   "display_name": "Python 3 (ipykernel)",
   "language": "python",
   "name": "python3"
  },
  "language_info": {
   "codemirror_mode": {
    "name": "ipython",
    "version": 3
   },
   "file_extension": ".py",
   "mimetype": "text/x-python",
   "name": "python",
   "nbconvert_exporter": "python",
   "pygments_lexer": "ipython3",
   "version": "3.9.7"
  }
 },
 "nbformat": 4,
 "nbformat_minor": 1
}
